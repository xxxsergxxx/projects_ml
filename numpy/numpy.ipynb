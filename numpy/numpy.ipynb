{
  "nbformat": 4,
  "nbformat_minor": 0,
  "metadata": {
    "colab": {
      "provenance": [],
      "collapsed_sections": [
        "2rCeBePeeBOC",
        "1GyIEErBeN3h",
        "ItCHMwXff11J",
        "cb9iIfThkGif",
        "ufHiivAo3yLy",
        "uciFG7HO-FGw",
        "bcsORmDMI-2P",
        "sTH1xtH5LiE1",
        "0ffn4qwhNmu3",
        "Sz3YBH2HEQ3s",
        "6zXvMz0SJnE3",
        "Bq1zRuO6SQF2"
      ],
      "toc_visible": true
    },
    "kernelspec": {
      "name": "python3",
      "display_name": "Python 3"
    },
    "language_info": {
      "name": "python"
    }
  },
  "cells": [
    {
      "cell_type": "markdown",
      "source": [
        "**Lesson 2**\n",
        "\n",
        "Theme:\n",
        "**Numpy**\n",
        "\n",
        "#Tasklist:\n",
        "\n",
        "1.  Find the target in the dataset and remove this column from the dataset (delete by index)\n",
        "\n",
        "2.  Convert the remaining columns to a 2D array (or make sure that it is already a 2D array)\n",
        "\n",
        "3.  Calculate mean, median, standard deviation for the 1st column\n",
        "\n",
        "4.  Insert 20 values of np.nan at random positions in the array (using normal randomization, there may be overlapping positions, so find a solution that guarantees 20 unique positions)\n",
        "\n",
        "5.  Find the positions of the inserted np.nan values in the 1st column\n",
        "\n",
        "6.  Filter the array by the condition: values in the 3rd column > 1.5 and values in the 1st column < 5.0 (save to another variable)\n",
        "\n",
        "7.  Replace all np.nan values with 0\n",
        "\n",
        "8.  Count all unique values in the array and print them along with the number\n",
        "\n",
        "9.  Split the array vertically into 2 equal parts (do not use absolute numbers, there should be two arrays of 4 columns each)\n",
        "\n",
        "10.  Sort both arrays by the 1st column: 1st in ascending order, 2nd in descending order\n",
        "\n",
        "11.  Merge both arrays into one\n",
        "\n",
        "12.  Find the most frequently repeated value in the array\n",
        "\n",
        "13.  Write a function that multiplies all values in a column that are less than the average value in that column by 2 and divides the remaining values by 4.\n",
        "\n",
        "14.  Apply the resulting function to the 3rd column"
      ],
      "metadata": {
        "id": "3gqNGZwbUy7-"
      }
    },
    {
      "cell_type": "code",
      "execution_count": 1,
      "metadata": {
        "colab": {
          "base_uri": "https://localhost:8080/"
        },
        "id": "o0CiR46jScVE",
        "outputId": "3cf110d1-0847-4665-e006-227309c9ec39"
      },
      "outputs": [
        {
          "output_type": "stream",
          "name": "stdout",
          "text": [
            "Mounted at /content/gdrive/\n"
          ]
        }
      ],
      "source": [
        "# import necessary libraries\n",
        "\n",
        "import pandas as pd\n",
        "import numpy as np\n",
        "\n",
        "from google.colab import drive\n",
        "drive.mount('/content/gdrive/', force_remount=True)"
      ]
    },
    {
      "cell_type": "code",
      "source": [
        "#define path of dataset\n",
        "\n",
        "data_path = \"/content/gdrive/MyDrive/Hillel_ML_Course/data/Iris.csv\""
      ],
      "metadata": {
        "id": "RPtTdZ3hY0pR"
      },
      "execution_count": 2,
      "outputs": []
    },
    {
      "cell_type": "markdown",
      "source": [
        "# **Task 1**\n",
        "\n",
        "Find the target in the dataset and remove this column from the dataset (delete by index)"
      ],
      "metadata": {
        "id": "n3l-1u-Rboh7"
      }
    },
    {
      "cell_type": "markdown",
      "source": [
        "##Solution with pandas and np"
      ],
      "metadata": {
        "id": "ZJbMnOVyc25N"
      }
    },
    {
      "cell_type": "code",
      "source": [
        "# read file as pandas df\n",
        "\n",
        "data = pd.read_csv(data_path)\n",
        "data.head()"
      ],
      "metadata": {
        "colab": {
          "base_uri": "https://localhost:8080/",
          "height": 206
        },
        "id": "nBWsE21ta__i",
        "outputId": "f90487b0-11b7-4ec2-9abd-23bd59cf6a50"
      },
      "execution_count": 3,
      "outputs": [
        {
          "output_type": "execute_result",
          "data": {
            "text/plain": [
              "   Id  SepalLengthCm  SepalWidthCm  PetalLengthCm  PetalWidthCm      Species\n",
              "0   1            5.1           3.5            1.4           0.2  Iris-setosa\n",
              "1   2            4.9           3.0            1.4           0.2  Iris-setosa\n",
              "2   3            4.7           3.2            1.3           0.2  Iris-setosa\n",
              "3   4            4.6           3.1            1.5           0.2  Iris-setosa\n",
              "4   5            5.0           3.6            1.4           0.2  Iris-setosa"
            ],
            "text/html": [
              "\n",
              "  <div id=\"df-ba49b306-df14-4982-829e-02f19cb841d9\" class=\"colab-df-container\">\n",
              "    <div>\n",
              "<style scoped>\n",
              "    .dataframe tbody tr th:only-of-type {\n",
              "        vertical-align: middle;\n",
              "    }\n",
              "\n",
              "    .dataframe tbody tr th {\n",
              "        vertical-align: top;\n",
              "    }\n",
              "\n",
              "    .dataframe thead th {\n",
              "        text-align: right;\n",
              "    }\n",
              "</style>\n",
              "<table border=\"1\" class=\"dataframe\">\n",
              "  <thead>\n",
              "    <tr style=\"text-align: right;\">\n",
              "      <th></th>\n",
              "      <th>Id</th>\n",
              "      <th>SepalLengthCm</th>\n",
              "      <th>SepalWidthCm</th>\n",
              "      <th>PetalLengthCm</th>\n",
              "      <th>PetalWidthCm</th>\n",
              "      <th>Species</th>\n",
              "    </tr>\n",
              "  </thead>\n",
              "  <tbody>\n",
              "    <tr>\n",
              "      <th>0</th>\n",
              "      <td>1</td>\n",
              "      <td>5.1</td>\n",
              "      <td>3.5</td>\n",
              "      <td>1.4</td>\n",
              "      <td>0.2</td>\n",
              "      <td>Iris-setosa</td>\n",
              "    </tr>\n",
              "    <tr>\n",
              "      <th>1</th>\n",
              "      <td>2</td>\n",
              "      <td>4.9</td>\n",
              "      <td>3.0</td>\n",
              "      <td>1.4</td>\n",
              "      <td>0.2</td>\n",
              "      <td>Iris-setosa</td>\n",
              "    </tr>\n",
              "    <tr>\n",
              "      <th>2</th>\n",
              "      <td>3</td>\n",
              "      <td>4.7</td>\n",
              "      <td>3.2</td>\n",
              "      <td>1.3</td>\n",
              "      <td>0.2</td>\n",
              "      <td>Iris-setosa</td>\n",
              "    </tr>\n",
              "    <tr>\n",
              "      <th>3</th>\n",
              "      <td>4</td>\n",
              "      <td>4.6</td>\n",
              "      <td>3.1</td>\n",
              "      <td>1.5</td>\n",
              "      <td>0.2</td>\n",
              "      <td>Iris-setosa</td>\n",
              "    </tr>\n",
              "    <tr>\n",
              "      <th>4</th>\n",
              "      <td>5</td>\n",
              "      <td>5.0</td>\n",
              "      <td>3.6</td>\n",
              "      <td>1.4</td>\n",
              "      <td>0.2</td>\n",
              "      <td>Iris-setosa</td>\n",
              "    </tr>\n",
              "  </tbody>\n",
              "</table>\n",
              "</div>\n",
              "    <div class=\"colab-df-buttons\">\n",
              "\n",
              "  <div class=\"colab-df-container\">\n",
              "    <button class=\"colab-df-convert\" onclick=\"convertToInteractive('df-ba49b306-df14-4982-829e-02f19cb841d9')\"\n",
              "            title=\"Convert this dataframe to an interactive table.\"\n",
              "            style=\"display:none;\">\n",
              "\n",
              "  <svg xmlns=\"http://www.w3.org/2000/svg\" height=\"24px\" viewBox=\"0 -960 960 960\">\n",
              "    <path d=\"M120-120v-720h720v720H120Zm60-500h600v-160H180v160Zm220 220h160v-160H400v160Zm0 220h160v-160H400v160ZM180-400h160v-160H180v160Zm440 0h160v-160H620v160ZM180-180h160v-160H180v160Zm440 0h160v-160H620v160Z\"/>\n",
              "  </svg>\n",
              "    </button>\n",
              "\n",
              "  <style>\n",
              "    .colab-df-container {\n",
              "      display:flex;\n",
              "      gap: 12px;\n",
              "    }\n",
              "\n",
              "    .colab-df-convert {\n",
              "      background-color: #E8F0FE;\n",
              "      border: none;\n",
              "      border-radius: 50%;\n",
              "      cursor: pointer;\n",
              "      display: none;\n",
              "      fill: #1967D2;\n",
              "      height: 32px;\n",
              "      padding: 0 0 0 0;\n",
              "      width: 32px;\n",
              "    }\n",
              "\n",
              "    .colab-df-convert:hover {\n",
              "      background-color: #E2EBFA;\n",
              "      box-shadow: 0px 1px 2px rgba(60, 64, 67, 0.3), 0px 1px 3px 1px rgba(60, 64, 67, 0.15);\n",
              "      fill: #174EA6;\n",
              "    }\n",
              "\n",
              "    .colab-df-buttons div {\n",
              "      margin-bottom: 4px;\n",
              "    }\n",
              "\n",
              "    [theme=dark] .colab-df-convert {\n",
              "      background-color: #3B4455;\n",
              "      fill: #D2E3FC;\n",
              "    }\n",
              "\n",
              "    [theme=dark] .colab-df-convert:hover {\n",
              "      background-color: #434B5C;\n",
              "      box-shadow: 0px 1px 3px 1px rgba(0, 0, 0, 0.15);\n",
              "      filter: drop-shadow(0px 1px 2px rgba(0, 0, 0, 0.3));\n",
              "      fill: #FFFFFF;\n",
              "    }\n",
              "  </style>\n",
              "\n",
              "    <script>\n",
              "      const buttonEl =\n",
              "        document.querySelector('#df-ba49b306-df14-4982-829e-02f19cb841d9 button.colab-df-convert');\n",
              "      buttonEl.style.display =\n",
              "        google.colab.kernel.accessAllowed ? 'block' : 'none';\n",
              "\n",
              "      async function convertToInteractive(key) {\n",
              "        const element = document.querySelector('#df-ba49b306-df14-4982-829e-02f19cb841d9');\n",
              "        const dataTable =\n",
              "          await google.colab.kernel.invokeFunction('convertToInteractive',\n",
              "                                                    [key], {});\n",
              "        if (!dataTable) return;\n",
              "\n",
              "        const docLinkHtml = 'Like what you see? Visit the ' +\n",
              "          '<a target=\"_blank\" href=https://colab.research.google.com/notebooks/data_table.ipynb>data table notebook</a>'\n",
              "          + ' to learn more about interactive tables.';\n",
              "        element.innerHTML = '';\n",
              "        dataTable['output_type'] = 'display_data';\n",
              "        await google.colab.output.renderOutput(dataTable, element);\n",
              "        const docLink = document.createElement('div');\n",
              "        docLink.innerHTML = docLinkHtml;\n",
              "        element.appendChild(docLink);\n",
              "      }\n",
              "    </script>\n",
              "  </div>\n",
              "\n",
              "\n",
              "<div id=\"df-6a74be11-ca42-46f2-b0dc-0d425d088f83\">\n",
              "  <button class=\"colab-df-quickchart\" onclick=\"quickchart('df-6a74be11-ca42-46f2-b0dc-0d425d088f83')\"\n",
              "            title=\"Suggest charts\"\n",
              "            style=\"display:none;\">\n",
              "\n",
              "<svg xmlns=\"http://www.w3.org/2000/svg\" height=\"24px\"viewBox=\"0 0 24 24\"\n",
              "     width=\"24px\">\n",
              "    <g>\n",
              "        <path d=\"M19 3H5c-1.1 0-2 .9-2 2v14c0 1.1.9 2 2 2h14c1.1 0 2-.9 2-2V5c0-1.1-.9-2-2-2zM9 17H7v-7h2v7zm4 0h-2V7h2v10zm4 0h-2v-4h2v4z\"/>\n",
              "    </g>\n",
              "</svg>\n",
              "  </button>\n",
              "\n",
              "<style>\n",
              "  .colab-df-quickchart {\n",
              "      --bg-color: #E8F0FE;\n",
              "      --fill-color: #1967D2;\n",
              "      --hover-bg-color: #E2EBFA;\n",
              "      --hover-fill-color: #174EA6;\n",
              "      --disabled-fill-color: #AAA;\n",
              "      --disabled-bg-color: #DDD;\n",
              "  }\n",
              "\n",
              "  [theme=dark] .colab-df-quickchart {\n",
              "      --bg-color: #3B4455;\n",
              "      --fill-color: #D2E3FC;\n",
              "      --hover-bg-color: #434B5C;\n",
              "      --hover-fill-color: #FFFFFF;\n",
              "      --disabled-bg-color: #3B4455;\n",
              "      --disabled-fill-color: #666;\n",
              "  }\n",
              "\n",
              "  .colab-df-quickchart {\n",
              "    background-color: var(--bg-color);\n",
              "    border: none;\n",
              "    border-radius: 50%;\n",
              "    cursor: pointer;\n",
              "    display: none;\n",
              "    fill: var(--fill-color);\n",
              "    height: 32px;\n",
              "    padding: 0;\n",
              "    width: 32px;\n",
              "  }\n",
              "\n",
              "  .colab-df-quickchart:hover {\n",
              "    background-color: var(--hover-bg-color);\n",
              "    box-shadow: 0 1px 2px rgba(60, 64, 67, 0.3), 0 1px 3px 1px rgba(60, 64, 67, 0.15);\n",
              "    fill: var(--button-hover-fill-color);\n",
              "  }\n",
              "\n",
              "  .colab-df-quickchart-complete:disabled,\n",
              "  .colab-df-quickchart-complete:disabled:hover {\n",
              "    background-color: var(--disabled-bg-color);\n",
              "    fill: var(--disabled-fill-color);\n",
              "    box-shadow: none;\n",
              "  }\n",
              "\n",
              "  .colab-df-spinner {\n",
              "    border: 2px solid var(--fill-color);\n",
              "    border-color: transparent;\n",
              "    border-bottom-color: var(--fill-color);\n",
              "    animation:\n",
              "      spin 1s steps(1) infinite;\n",
              "  }\n",
              "\n",
              "  @keyframes spin {\n",
              "    0% {\n",
              "      border-color: transparent;\n",
              "      border-bottom-color: var(--fill-color);\n",
              "      border-left-color: var(--fill-color);\n",
              "    }\n",
              "    20% {\n",
              "      border-color: transparent;\n",
              "      border-left-color: var(--fill-color);\n",
              "      border-top-color: var(--fill-color);\n",
              "    }\n",
              "    30% {\n",
              "      border-color: transparent;\n",
              "      border-left-color: var(--fill-color);\n",
              "      border-top-color: var(--fill-color);\n",
              "      border-right-color: var(--fill-color);\n",
              "    }\n",
              "    40% {\n",
              "      border-color: transparent;\n",
              "      border-right-color: var(--fill-color);\n",
              "      border-top-color: var(--fill-color);\n",
              "    }\n",
              "    60% {\n",
              "      border-color: transparent;\n",
              "      border-right-color: var(--fill-color);\n",
              "    }\n",
              "    80% {\n",
              "      border-color: transparent;\n",
              "      border-right-color: var(--fill-color);\n",
              "      border-bottom-color: var(--fill-color);\n",
              "    }\n",
              "    90% {\n",
              "      border-color: transparent;\n",
              "      border-bottom-color: var(--fill-color);\n",
              "    }\n",
              "  }\n",
              "</style>\n",
              "\n",
              "  <script>\n",
              "    async function quickchart(key) {\n",
              "      const quickchartButtonEl =\n",
              "        document.querySelector('#' + key + ' button');\n",
              "      quickchartButtonEl.disabled = true;  // To prevent multiple clicks.\n",
              "      quickchartButtonEl.classList.add('colab-df-spinner');\n",
              "      try {\n",
              "        const charts = await google.colab.kernel.invokeFunction(\n",
              "            'suggestCharts', [key], {});\n",
              "      } catch (error) {\n",
              "        console.error('Error during call to suggestCharts:', error);\n",
              "      }\n",
              "      quickchartButtonEl.classList.remove('colab-df-spinner');\n",
              "      quickchartButtonEl.classList.add('colab-df-quickchart-complete');\n",
              "    }\n",
              "    (() => {\n",
              "      let quickchartButtonEl =\n",
              "        document.querySelector('#df-6a74be11-ca42-46f2-b0dc-0d425d088f83 button');\n",
              "      quickchartButtonEl.style.display =\n",
              "        google.colab.kernel.accessAllowed ? 'block' : 'none';\n",
              "    })();\n",
              "  </script>\n",
              "</div>\n",
              "    </div>\n",
              "  </div>\n"
            ],
            "application/vnd.google.colaboratory.intrinsic+json": {
              "type": "dataframe",
              "variable_name": "data",
              "summary": "{\n  \"name\": \"data\",\n  \"rows\": 150,\n  \"fields\": [\n    {\n      \"column\": \"Id\",\n      \"properties\": {\n        \"dtype\": \"number\",\n        \"std\": 43,\n        \"min\": 1,\n        \"max\": 150,\n        \"num_unique_values\": 150,\n        \"samples\": [\n          74,\n          19,\n          119\n        ],\n        \"semantic_type\": \"\",\n        \"description\": \"\"\n      }\n    },\n    {\n      \"column\": \"SepalLengthCm\",\n      \"properties\": {\n        \"dtype\": \"number\",\n        \"std\": 0.828066127977863,\n        \"min\": 4.3,\n        \"max\": 7.9,\n        \"num_unique_values\": 35,\n        \"samples\": [\n          6.2,\n          4.5,\n          5.6\n        ],\n        \"semantic_type\": \"\",\n        \"description\": \"\"\n      }\n    },\n    {\n      \"column\": \"SepalWidthCm\",\n      \"properties\": {\n        \"dtype\": \"number\",\n        \"std\": 0.4335943113621737,\n        \"min\": 2.0,\n        \"max\": 4.4,\n        \"num_unique_values\": 23,\n        \"samples\": [\n          2.3,\n          4.0,\n          3.5\n        ],\n        \"semantic_type\": \"\",\n        \"description\": \"\"\n      }\n    },\n    {\n      \"column\": \"PetalLengthCm\",\n      \"properties\": {\n        \"dtype\": \"number\",\n        \"std\": 1.7644204199522626,\n        \"min\": 1.0,\n        \"max\": 6.9,\n        \"num_unique_values\": 43,\n        \"samples\": [\n          6.7,\n          3.8,\n          3.7\n        ],\n        \"semantic_type\": \"\",\n        \"description\": \"\"\n      }\n    },\n    {\n      \"column\": \"PetalWidthCm\",\n      \"properties\": {\n        \"dtype\": \"number\",\n        \"std\": 0.7631607417008411,\n        \"min\": 0.1,\n        \"max\": 2.5,\n        \"num_unique_values\": 22,\n        \"samples\": [\n          0.2,\n          1.2,\n          1.3\n        ],\n        \"semantic_type\": \"\",\n        \"description\": \"\"\n      }\n    },\n    {\n      \"column\": \"Species\",\n      \"properties\": {\n        \"dtype\": \"category\",\n        \"num_unique_values\": 3,\n        \"samples\": [\n          \"Iris-setosa\",\n          \"Iris-versicolor\",\n          \"Iris-virginica\"\n        ],\n        \"semantic_type\": \"\",\n        \"description\": \"\"\n      }\n    }\n  ]\n}"
            }
          },
          "metadata": {},
          "execution_count": 3
        }
      ]
    },
    {
      "cell_type": "code",
      "source": [
        "# removing target column by pandas\n",
        "\n",
        "removed_target = data.drop(\"Species\", axis=1)\n",
        "removed_target.head()"
      ],
      "metadata": {
        "colab": {
          "base_uri": "https://localhost:8080/",
          "height": 206
        },
        "id": "dUaUZw-Zb89c",
        "outputId": "77d17f31-e619-4778-c938-9a8b982a181d"
      },
      "execution_count": 4,
      "outputs": [
        {
          "output_type": "execute_result",
          "data": {
            "text/plain": [
              "   Id  SepalLengthCm  SepalWidthCm  PetalLengthCm  PetalWidthCm\n",
              "0   1            5.1           3.5            1.4           0.2\n",
              "1   2            4.9           3.0            1.4           0.2\n",
              "2   3            4.7           3.2            1.3           0.2\n",
              "3   4            4.6           3.1            1.5           0.2\n",
              "4   5            5.0           3.6            1.4           0.2"
            ],
            "text/html": [
              "\n",
              "  <div id=\"df-f796beca-961d-4f8a-a459-0e4a0dda157d\" class=\"colab-df-container\">\n",
              "    <div>\n",
              "<style scoped>\n",
              "    .dataframe tbody tr th:only-of-type {\n",
              "        vertical-align: middle;\n",
              "    }\n",
              "\n",
              "    .dataframe tbody tr th {\n",
              "        vertical-align: top;\n",
              "    }\n",
              "\n",
              "    .dataframe thead th {\n",
              "        text-align: right;\n",
              "    }\n",
              "</style>\n",
              "<table border=\"1\" class=\"dataframe\">\n",
              "  <thead>\n",
              "    <tr style=\"text-align: right;\">\n",
              "      <th></th>\n",
              "      <th>Id</th>\n",
              "      <th>SepalLengthCm</th>\n",
              "      <th>SepalWidthCm</th>\n",
              "      <th>PetalLengthCm</th>\n",
              "      <th>PetalWidthCm</th>\n",
              "    </tr>\n",
              "  </thead>\n",
              "  <tbody>\n",
              "    <tr>\n",
              "      <th>0</th>\n",
              "      <td>1</td>\n",
              "      <td>5.1</td>\n",
              "      <td>3.5</td>\n",
              "      <td>1.4</td>\n",
              "      <td>0.2</td>\n",
              "    </tr>\n",
              "    <tr>\n",
              "      <th>1</th>\n",
              "      <td>2</td>\n",
              "      <td>4.9</td>\n",
              "      <td>3.0</td>\n",
              "      <td>1.4</td>\n",
              "      <td>0.2</td>\n",
              "    </tr>\n",
              "    <tr>\n",
              "      <th>2</th>\n",
              "      <td>3</td>\n",
              "      <td>4.7</td>\n",
              "      <td>3.2</td>\n",
              "      <td>1.3</td>\n",
              "      <td>0.2</td>\n",
              "    </tr>\n",
              "    <tr>\n",
              "      <th>3</th>\n",
              "      <td>4</td>\n",
              "      <td>4.6</td>\n",
              "      <td>3.1</td>\n",
              "      <td>1.5</td>\n",
              "      <td>0.2</td>\n",
              "    </tr>\n",
              "    <tr>\n",
              "      <th>4</th>\n",
              "      <td>5</td>\n",
              "      <td>5.0</td>\n",
              "      <td>3.6</td>\n",
              "      <td>1.4</td>\n",
              "      <td>0.2</td>\n",
              "    </tr>\n",
              "  </tbody>\n",
              "</table>\n",
              "</div>\n",
              "    <div class=\"colab-df-buttons\">\n",
              "\n",
              "  <div class=\"colab-df-container\">\n",
              "    <button class=\"colab-df-convert\" onclick=\"convertToInteractive('df-f796beca-961d-4f8a-a459-0e4a0dda157d')\"\n",
              "            title=\"Convert this dataframe to an interactive table.\"\n",
              "            style=\"display:none;\">\n",
              "\n",
              "  <svg xmlns=\"http://www.w3.org/2000/svg\" height=\"24px\" viewBox=\"0 -960 960 960\">\n",
              "    <path d=\"M120-120v-720h720v720H120Zm60-500h600v-160H180v160Zm220 220h160v-160H400v160Zm0 220h160v-160H400v160ZM180-400h160v-160H180v160Zm440 0h160v-160H620v160ZM180-180h160v-160H180v160Zm440 0h160v-160H620v160Z\"/>\n",
              "  </svg>\n",
              "    </button>\n",
              "\n",
              "  <style>\n",
              "    .colab-df-container {\n",
              "      display:flex;\n",
              "      gap: 12px;\n",
              "    }\n",
              "\n",
              "    .colab-df-convert {\n",
              "      background-color: #E8F0FE;\n",
              "      border: none;\n",
              "      border-radius: 50%;\n",
              "      cursor: pointer;\n",
              "      display: none;\n",
              "      fill: #1967D2;\n",
              "      height: 32px;\n",
              "      padding: 0 0 0 0;\n",
              "      width: 32px;\n",
              "    }\n",
              "\n",
              "    .colab-df-convert:hover {\n",
              "      background-color: #E2EBFA;\n",
              "      box-shadow: 0px 1px 2px rgba(60, 64, 67, 0.3), 0px 1px 3px 1px rgba(60, 64, 67, 0.15);\n",
              "      fill: #174EA6;\n",
              "    }\n",
              "\n",
              "    .colab-df-buttons div {\n",
              "      margin-bottom: 4px;\n",
              "    }\n",
              "\n",
              "    [theme=dark] .colab-df-convert {\n",
              "      background-color: #3B4455;\n",
              "      fill: #D2E3FC;\n",
              "    }\n",
              "\n",
              "    [theme=dark] .colab-df-convert:hover {\n",
              "      background-color: #434B5C;\n",
              "      box-shadow: 0px 1px 3px 1px rgba(0, 0, 0, 0.15);\n",
              "      filter: drop-shadow(0px 1px 2px rgba(0, 0, 0, 0.3));\n",
              "      fill: #FFFFFF;\n",
              "    }\n",
              "  </style>\n",
              "\n",
              "    <script>\n",
              "      const buttonEl =\n",
              "        document.querySelector('#df-f796beca-961d-4f8a-a459-0e4a0dda157d button.colab-df-convert');\n",
              "      buttonEl.style.display =\n",
              "        google.colab.kernel.accessAllowed ? 'block' : 'none';\n",
              "\n",
              "      async function convertToInteractive(key) {\n",
              "        const element = document.querySelector('#df-f796beca-961d-4f8a-a459-0e4a0dda157d');\n",
              "        const dataTable =\n",
              "          await google.colab.kernel.invokeFunction('convertToInteractive',\n",
              "                                                    [key], {});\n",
              "        if (!dataTable) return;\n",
              "\n",
              "        const docLinkHtml = 'Like what you see? Visit the ' +\n",
              "          '<a target=\"_blank\" href=https://colab.research.google.com/notebooks/data_table.ipynb>data table notebook</a>'\n",
              "          + ' to learn more about interactive tables.';\n",
              "        element.innerHTML = '';\n",
              "        dataTable['output_type'] = 'display_data';\n",
              "        await google.colab.output.renderOutput(dataTable, element);\n",
              "        const docLink = document.createElement('div');\n",
              "        docLink.innerHTML = docLinkHtml;\n",
              "        element.appendChild(docLink);\n",
              "      }\n",
              "    </script>\n",
              "  </div>\n",
              "\n",
              "\n",
              "<div id=\"df-c272532e-3268-43ea-8fca-98cd49d725b1\">\n",
              "  <button class=\"colab-df-quickchart\" onclick=\"quickchart('df-c272532e-3268-43ea-8fca-98cd49d725b1')\"\n",
              "            title=\"Suggest charts\"\n",
              "            style=\"display:none;\">\n",
              "\n",
              "<svg xmlns=\"http://www.w3.org/2000/svg\" height=\"24px\"viewBox=\"0 0 24 24\"\n",
              "     width=\"24px\">\n",
              "    <g>\n",
              "        <path d=\"M19 3H5c-1.1 0-2 .9-2 2v14c0 1.1.9 2 2 2h14c1.1 0 2-.9 2-2V5c0-1.1-.9-2-2-2zM9 17H7v-7h2v7zm4 0h-2V7h2v10zm4 0h-2v-4h2v4z\"/>\n",
              "    </g>\n",
              "</svg>\n",
              "  </button>\n",
              "\n",
              "<style>\n",
              "  .colab-df-quickchart {\n",
              "      --bg-color: #E8F0FE;\n",
              "      --fill-color: #1967D2;\n",
              "      --hover-bg-color: #E2EBFA;\n",
              "      --hover-fill-color: #174EA6;\n",
              "      --disabled-fill-color: #AAA;\n",
              "      --disabled-bg-color: #DDD;\n",
              "  }\n",
              "\n",
              "  [theme=dark] .colab-df-quickchart {\n",
              "      --bg-color: #3B4455;\n",
              "      --fill-color: #D2E3FC;\n",
              "      --hover-bg-color: #434B5C;\n",
              "      --hover-fill-color: #FFFFFF;\n",
              "      --disabled-bg-color: #3B4455;\n",
              "      --disabled-fill-color: #666;\n",
              "  }\n",
              "\n",
              "  .colab-df-quickchart {\n",
              "    background-color: var(--bg-color);\n",
              "    border: none;\n",
              "    border-radius: 50%;\n",
              "    cursor: pointer;\n",
              "    display: none;\n",
              "    fill: var(--fill-color);\n",
              "    height: 32px;\n",
              "    padding: 0;\n",
              "    width: 32px;\n",
              "  }\n",
              "\n",
              "  .colab-df-quickchart:hover {\n",
              "    background-color: var(--hover-bg-color);\n",
              "    box-shadow: 0 1px 2px rgba(60, 64, 67, 0.3), 0 1px 3px 1px rgba(60, 64, 67, 0.15);\n",
              "    fill: var(--button-hover-fill-color);\n",
              "  }\n",
              "\n",
              "  .colab-df-quickchart-complete:disabled,\n",
              "  .colab-df-quickchart-complete:disabled:hover {\n",
              "    background-color: var(--disabled-bg-color);\n",
              "    fill: var(--disabled-fill-color);\n",
              "    box-shadow: none;\n",
              "  }\n",
              "\n",
              "  .colab-df-spinner {\n",
              "    border: 2px solid var(--fill-color);\n",
              "    border-color: transparent;\n",
              "    border-bottom-color: var(--fill-color);\n",
              "    animation:\n",
              "      spin 1s steps(1) infinite;\n",
              "  }\n",
              "\n",
              "  @keyframes spin {\n",
              "    0% {\n",
              "      border-color: transparent;\n",
              "      border-bottom-color: var(--fill-color);\n",
              "      border-left-color: var(--fill-color);\n",
              "    }\n",
              "    20% {\n",
              "      border-color: transparent;\n",
              "      border-left-color: var(--fill-color);\n",
              "      border-top-color: var(--fill-color);\n",
              "    }\n",
              "    30% {\n",
              "      border-color: transparent;\n",
              "      border-left-color: var(--fill-color);\n",
              "      border-top-color: var(--fill-color);\n",
              "      border-right-color: var(--fill-color);\n",
              "    }\n",
              "    40% {\n",
              "      border-color: transparent;\n",
              "      border-right-color: var(--fill-color);\n",
              "      border-top-color: var(--fill-color);\n",
              "    }\n",
              "    60% {\n",
              "      border-color: transparent;\n",
              "      border-right-color: var(--fill-color);\n",
              "    }\n",
              "    80% {\n",
              "      border-color: transparent;\n",
              "      border-right-color: var(--fill-color);\n",
              "      border-bottom-color: var(--fill-color);\n",
              "    }\n",
              "    90% {\n",
              "      border-color: transparent;\n",
              "      border-bottom-color: var(--fill-color);\n",
              "    }\n",
              "  }\n",
              "</style>\n",
              "\n",
              "  <script>\n",
              "    async function quickchart(key) {\n",
              "      const quickchartButtonEl =\n",
              "        document.querySelector('#' + key + ' button');\n",
              "      quickchartButtonEl.disabled = true;  // To prevent multiple clicks.\n",
              "      quickchartButtonEl.classList.add('colab-df-spinner');\n",
              "      try {\n",
              "        const charts = await google.colab.kernel.invokeFunction(\n",
              "            'suggestCharts', [key], {});\n",
              "      } catch (error) {\n",
              "        console.error('Error during call to suggestCharts:', error);\n",
              "      }\n",
              "      quickchartButtonEl.classList.remove('colab-df-spinner');\n",
              "      quickchartButtonEl.classList.add('colab-df-quickchart-complete');\n",
              "    }\n",
              "    (() => {\n",
              "      let quickchartButtonEl =\n",
              "        document.querySelector('#df-c272532e-3268-43ea-8fca-98cd49d725b1 button');\n",
              "      quickchartButtonEl.style.display =\n",
              "        google.colab.kernel.accessAllowed ? 'block' : 'none';\n",
              "    })();\n",
              "  </script>\n",
              "</div>\n",
              "    </div>\n",
              "  </div>\n"
            ],
            "application/vnd.google.colaboratory.intrinsic+json": {
              "type": "dataframe",
              "variable_name": "removed_target",
              "summary": "{\n  \"name\": \"removed_target\",\n  \"rows\": 150,\n  \"fields\": [\n    {\n      \"column\": \"Id\",\n      \"properties\": {\n        \"dtype\": \"number\",\n        \"std\": 43,\n        \"min\": 1,\n        \"max\": 150,\n        \"num_unique_values\": 150,\n        \"samples\": [\n          74,\n          19,\n          119\n        ],\n        \"semantic_type\": \"\",\n        \"description\": \"\"\n      }\n    },\n    {\n      \"column\": \"SepalLengthCm\",\n      \"properties\": {\n        \"dtype\": \"number\",\n        \"std\": 0.828066127977863,\n        \"min\": 4.3,\n        \"max\": 7.9,\n        \"num_unique_values\": 35,\n        \"samples\": [\n          6.2,\n          4.5,\n          5.6\n        ],\n        \"semantic_type\": \"\",\n        \"description\": \"\"\n      }\n    },\n    {\n      \"column\": \"SepalWidthCm\",\n      \"properties\": {\n        \"dtype\": \"number\",\n        \"std\": 0.4335943113621737,\n        \"min\": 2.0,\n        \"max\": 4.4,\n        \"num_unique_values\": 23,\n        \"samples\": [\n          2.3,\n          4.0,\n          3.5\n        ],\n        \"semantic_type\": \"\",\n        \"description\": \"\"\n      }\n    },\n    {\n      \"column\": \"PetalLengthCm\",\n      \"properties\": {\n        \"dtype\": \"number\",\n        \"std\": 1.7644204199522626,\n        \"min\": 1.0,\n        \"max\": 6.9,\n        \"num_unique_values\": 43,\n        \"samples\": [\n          6.7,\n          3.8,\n          3.7\n        ],\n        \"semantic_type\": \"\",\n        \"description\": \"\"\n      }\n    },\n    {\n      \"column\": \"PetalWidthCm\",\n      \"properties\": {\n        \"dtype\": \"number\",\n        \"std\": 0.7631607417008411,\n        \"min\": 0.1,\n        \"max\": 2.5,\n        \"num_unique_values\": 22,\n        \"samples\": [\n          0.2,\n          1.2,\n          1.3\n        ],\n        \"semantic_type\": \"\",\n        \"description\": \"\"\n      }\n    }\n  ]\n}"
            }
          },
          "metadata": {},
          "execution_count": 4
        }
      ]
    },
    {
      "cell_type": "code",
      "source": [
        "#we can convert pandas+ dataframe to np\n",
        "\n",
        "data_np = data.to_numpy().copy()"
      ],
      "metadata": {
        "id": "fKFzka7ObIPu"
      },
      "execution_count": 5,
      "outputs": []
    },
    {
      "cell_type": "code",
      "source": [
        "#removing rarget column by copying array without it\n",
        "\n",
        "removed_target_np = data_np[:, 0:5]\n",
        "removed_target_np[:5, :]"
      ],
      "metadata": {
        "colab": {
          "base_uri": "https://localhost:8080/"
        },
        "id": "gJ39B2-ObWRc",
        "outputId": "f14f80be-f0ab-4156-e5ea-6396f44cb292"
      },
      "execution_count": 6,
      "outputs": [
        {
          "output_type": "execute_result",
          "data": {
            "text/plain": [
              "array([[1, 5.1, 3.5, 1.4, 0.2],\n",
              "       [2, 4.9, 3.0, 1.4, 0.2],\n",
              "       [3, 4.7, 3.2, 1.3, 0.2],\n",
              "       [4, 4.6, 3.1, 1.5, 0.2],\n",
              "       [5, 5.0, 3.6, 1.4, 0.2]], dtype=object)"
            ]
          },
          "metadata": {},
          "execution_count": 6
        }
      ]
    },
    {
      "cell_type": "markdown",
      "source": [
        "##Task solution with numpy"
      ],
      "metadata": {
        "id": "2rCeBePeeBOC"
      }
    },
    {
      "cell_type": "code",
      "source": [
        "#and we can load file directly by numpy without \"target: and id \"columns\"\n",
        "\n",
        "load_data_np = np.genfromtxt(data_path, dtype=float, delimiter=',', usecols=(1,2,3,4))"
      ],
      "metadata": {
        "id": "oCQN8tLafVCw"
      },
      "execution_count": 7,
      "outputs": []
    },
    {
      "cell_type": "code",
      "source": [
        "# look at the first 5 rows\n",
        "load_data_np[:5,:]"
      ],
      "metadata": {
        "colab": {
          "base_uri": "https://localhost:8080/"
        },
        "id": "O9755Os_gLtN",
        "outputId": "43ce69cb-b701-4cc7-9253-df6b753fb05c"
      },
      "execution_count": 8,
      "outputs": [
        {
          "output_type": "execute_result",
          "data": {
            "text/plain": [
              "array([[nan, nan, nan, nan],\n",
              "       [5.1, 3.5, 1.4, 0.2],\n",
              "       [4.9, 3. , 1.4, 0.2],\n",
              "       [4.7, 3.2, 1.3, 0.2],\n",
              "       [4.6, 3.1, 1.5, 0.2]])"
            ]
          },
          "metadata": {},
          "execution_count": 8
        }
      ]
    },
    {
      "cell_type": "code",
      "source": [
        "#fist row is nan, so clean it:\n",
        "\n",
        "data_np = load_data_np[1:,:].copy()\n",
        "data_np[:5,:]"
      ],
      "metadata": {
        "colab": {
          "base_uri": "https://localhost:8080/"
        },
        "id": "9O4jddgehFVg",
        "outputId": "a79df27b-e5fa-4738-f561-e8a76e7750e2"
      },
      "execution_count": 9,
      "outputs": [
        {
          "output_type": "execute_result",
          "data": {
            "text/plain": [
              "array([[5.1, 3.5, 1.4, 0.2],\n",
              "       [4.9, 3. , 1.4, 0.2],\n",
              "       [4.7, 3.2, 1.3, 0.2],\n",
              "       [4.6, 3.1, 1.5, 0.2],\n",
              "       [5. , 3.6, 1.4, 0.2]])"
            ]
          },
          "metadata": {},
          "execution_count": 9
        }
      ]
    },
    {
      "cell_type": "code",
      "source": [
        "# look at shape\n",
        "data_np.shape"
      ],
      "metadata": {
        "colab": {
          "base_uri": "https://localhost:8080/"
        },
        "id": "2mICkciUbJlq",
        "outputId": "c1617fb9-f0d5-499f-dfa9-5fe706c00179"
      },
      "execution_count": 10,
      "outputs": [
        {
          "output_type": "execute_result",
          "data": {
            "text/plain": [
              "(150, 4)"
            ]
          },
          "metadata": {},
          "execution_count": 10
        }
      ]
    },
    {
      "cell_type": "markdown",
      "source": [
        "#Task 2\n",
        "\n",
        "Convert the remaining columns to a 2D array (or make sure that it is already a 2D array)"
      ],
      "metadata": {
        "id": "1GyIEErBeN3h"
      }
    },
    {
      "cell_type": "code",
      "source": [
        "# looking on dimension\n",
        "\n",
        "print(f\"number of dimension is: {data_np.ndim}\")"
      ],
      "metadata": {
        "colab": {
          "base_uri": "https://localhost:8080/"
        },
        "id": "T91UjqM0eV8B",
        "outputId": "8929f5a3-18d2-4ff2-c1eb-e1746066de55"
      },
      "execution_count": 11,
      "outputs": [
        {
          "output_type": "stream",
          "name": "stdout",
          "text": [
            "number of dimension is: 2\n"
          ]
        }
      ]
    },
    {
      "cell_type": "markdown",
      "source": [
        "#Task 3\n",
        "\n",
        "Calculate mean, median, standard deviation for the 1st column"
      ],
      "metadata": {
        "id": "ItCHMwXff11J"
      }
    },
    {
      "cell_type": "code",
      "source": [
        "#calculating mean for 1st column:\n",
        "\n",
        "print(f\"mean of 1st column: {data_np[:,1].mean()}\")\n",
        "\n",
        "#calculating median for 1st column:\n",
        "\n",
        "# print(f\"median of 1st column: {data_np[:,1].median()}\")\n",
        "# got 'numpy.ndarray' object has no attribute 'median'\n",
        "\n",
        "#so another way:\n",
        "print(f\"median of 1st column: {np.median(data_np[:,1])}\")\n",
        "\n",
        "#calculating standart deviation of 1st column:\n",
        "\n",
        "print(f\"stand deviation of 1st column: {data_np[:,1].std()}\")"
      ],
      "metadata": {
        "colab": {
          "base_uri": "https://localhost:8080/"
        },
        "id": "pqIVwnJUf6u9",
        "outputId": "ff336844-32af-415c-c922-3567a7b11cc4"
      },
      "execution_count": 12,
      "outputs": [
        {
          "output_type": "stream",
          "name": "stdout",
          "text": [
            "mean of 1st column: 3.0540000000000003\n",
            "median of 1st column: 3.0\n",
            "stand deviation of 1st column: 0.4321465800705435\n"
          ]
        }
      ]
    },
    {
      "cell_type": "markdown",
      "source": [
        "#Task 4\n",
        "\n",
        "Insert 20 values of np.nan at random positions in the array (using normal randomization, there may be overlapping positions, so find a solution that guarantees 20 unique positions)"
      ],
      "metadata": {
        "id": "cb9iIfThkGif"
      }
    },
    {
      "cell_type": "markdown",
      "source": [
        "## Solution 1\n",
        "we can solve this task by generating rendom 20 values in range of leght data rows and mutate in in past"
      ],
      "metadata": {
        "id": "ZzWSQ_wErQq2"
      }
    },
    {
      "cell_type": "code",
      "source": [
        "data_np.shape"
      ],
      "metadata": {
        "colab": {
          "base_uri": "https://localhost:8080/"
        },
        "id": "Czt5517krweP",
        "outputId": "27ac5576-9468-4680-f521-62b15133042d"
      },
      "execution_count": 13,
      "outputs": [
        {
          "output_type": "execute_result",
          "data": {
            "text/plain": [
              "(150, 4)"
            ]
          },
          "metadata": {},
          "execution_count": 13
        }
      ]
    },
    {
      "cell_type": "code",
      "source": [
        "# generating random numbers\n",
        "rng = np.random.default_rng(seed=42)\n",
        "\n",
        "# generate by random.integers function:\n",
        "# Return random integers from low  to high\n",
        "\n",
        "random_numbers = rng.integers(0, 3, 20)\n",
        "print(random_numbers)"
      ],
      "metadata": {
        "colab": {
          "base_uri": "https://localhost:8080/"
        },
        "id": "sNXIhG8O6Cbm",
        "outputId": "6f626bba-4282-4634-ebd1-c82770652384",
        "collapsed": true
      },
      "execution_count": 14,
      "outputs": [
        {
          "output_type": "stream",
          "name": "stdout",
          "text": [
            "[0 2 1 1 1 2 0 2 0 0 1 2 2 2 2 2 1 0 2 1]\n"
          ]
        }
      ]
    },
    {
      "cell_type": "code",
      "source": [
        "#copying data to new variable\n",
        "\n",
        "nan_array = data_np.copy()"
      ],
      "metadata": {
        "id": "u2LkpeyCpFCu"
      },
      "execution_count": 15,
      "outputs": []
    },
    {
      "cell_type": "code",
      "source": [
        "# mutate random values to nan\n",
        "\n",
        "nan_array[np.arange(20), random_numbers] = np.nan"
      ],
      "metadata": {
        "id": "aetC1Jatp5qg"
      },
      "execution_count": 16,
      "outputs": []
    },
    {
      "cell_type": "code",
      "source": [
        "#check and count nan by function np.unique:\n",
        "\n",
        "values, counts = np.unique(nan_array, return_counts=True)\n",
        "\n",
        "print(values)\n",
        "print(counts)"
      ],
      "metadata": {
        "colab": {
          "base_uri": "https://localhost:8080/"
        },
        "id": "CuBn_jySlRG5",
        "outputId": "54f18322-1f8c-4575-84b0-50b1e114aec5"
      },
      "execution_count": 17,
      "outputs": [
        {
          "output_type": "stream",
          "name": "stdout",
          "text": [
            "[0.1 0.2 0.3 0.4 0.5 0.6 1.  1.1 1.2 1.3 1.4 1.5 1.6 1.7 1.8 1.9 2.  2.1\n",
            " 2.2 2.3 2.4 2.5 2.6 2.7 2.8 2.9 3.  3.1 3.2 3.3 3.4 3.5 3.6 3.7 3.8 3.9\n",
            " 4.  4.1 4.2 4.3 4.4 4.5 4.6 4.7 4.8 4.9 5.  5.1 5.2 5.3 5.4 5.5 5.6 5.7\n",
            " 5.8 5.9 6.  6.1 6.2 6.3 6.4 6.5 6.6 6.7 6.8 6.9 7.  7.1 7.2 7.3 7.4 7.6\n",
            " 7.7 7.9 nan]\n",
            "[ 6 28  7  7  1  1  8  3  6 20 18 24 10  4 12  7  7  6  6 12  6 11  5  9\n",
            " 14 10 27 11 12  8 12  8  3  3  6  4  6  4  5  3  7  9  6  7  9 10 14 15\n",
            "  6  3  8 10 12 11 10  5  8  9  4 10  8  5  3 10  3  5  1  1  3  1  1  1\n",
            "  4  1 20]\n"
          ]
        }
      ]
    },
    {
      "cell_type": "code",
      "source": [
        "nan_array.shape"
      ],
      "metadata": {
        "id": "CGZvZQtWaCOa",
        "colab": {
          "base_uri": "https://localhost:8080/"
        },
        "outputId": "4527b091-b14d-41df-f0b9-0f963e3113fb"
      },
      "execution_count": 18,
      "outputs": [
        {
          "output_type": "execute_result",
          "data": {
            "text/plain": [
              "(150, 4)"
            ]
          },
          "metadata": {},
          "execution_count": 18
        }
      ]
    },
    {
      "cell_type": "markdown",
      "source": [
        "## Solution 2\n",
        "And we can use random_numbers from previous task, and generate 20 numbers from data indicies"
      ],
      "metadata": {
        "id": "UtebTm0n0DCj"
      }
    },
    {
      "cell_type": "code",
      "source": [
        "#copying data\n",
        "\n",
        "test_data_np = data_np.copy()"
      ],
      "metadata": {
        "id": "nOlpDBPFu6aa"
      },
      "execution_count": 19,
      "outputs": []
    },
    {
      "cell_type": "code",
      "source": [
        "#generating numbers from indicies\n",
        "\n",
        "test_data_choice = rng.choice(test_data_np.shape[0], 20, replace=False, axis= 0)\n",
        "print(test_data_choice)"
      ],
      "metadata": {
        "colab": {
          "base_uri": "https://localhost:8080/"
        },
        "id": "VTBKyoEsxlbC",
        "outputId": "1d23c740-3cd6-440d-b6a2-98a921053d3c"
      },
      "execution_count": 20,
      "outputs": [
        {
          "output_type": "stream",
          "name": "stdout",
          "text": [
            "[ 79  63 105  87  65  62  94  24   9 113 122  75  32 126  41  48  55  13\n",
            " 128 124]\n"
          ]
        }
      ]
    },
    {
      "cell_type": "code",
      "source": [
        "#mutate random numbers to nan\n",
        "\n",
        "test_data_np[test_data_choice, random_numbers] = np.nan"
      ],
      "metadata": {
        "id": "wj8q_hNJwzvI"
      },
      "execution_count": 21,
      "outputs": []
    },
    {
      "cell_type": "code",
      "source": [
        "#check out data\n",
        "test_data_np"
      ],
      "metadata": {
        "colab": {
          "base_uri": "https://localhost:8080/"
        },
        "collapsed": true,
        "id": "h_pYA9fkzXHa",
        "outputId": "989acccc-07d1-4bf0-c5ad-c9692e0b2cb6"
      },
      "execution_count": 22,
      "outputs": [
        {
          "output_type": "execute_result",
          "data": {
            "text/plain": [
              "array([[5.1, 3.5, 1.4, 0.2],\n",
              "       [4.9, 3. , 1.4, 0.2],\n",
              "       [4.7, 3.2, 1.3, 0.2],\n",
              "       [4.6, 3.1, 1.5, 0.2],\n",
              "       [5. , 3.6, 1.4, 0.2],\n",
              "       [5.4, 3.9, 1.7, 0.4],\n",
              "       [4.6, 3.4, 1.4, 0.3],\n",
              "       [5. , 3.4, 1.5, 0.2],\n",
              "       [4.4, 2.9, 1.4, 0.2],\n",
              "       [nan, 3.1, 1.5, 0.1],\n",
              "       [5.4, 3.7, 1.5, 0.2],\n",
              "       [4.8, 3.4, 1.6, 0.2],\n",
              "       [4.8, 3. , 1.4, 0.1],\n",
              "       [nan, 3. , 1.1, 0.1],\n",
              "       [5.8, 4. , 1.2, 0.2],\n",
              "       [5.7, 4.4, 1.5, 0.4],\n",
              "       [5.4, 3.9, 1.3, 0.4],\n",
              "       [5.1, 3.5, 1.4, 0.3],\n",
              "       [5.7, 3.8, 1.7, 0.3],\n",
              "       [5.1, 3.8, 1.5, 0.3],\n",
              "       [5.4, 3.4, 1.7, 0.2],\n",
              "       [5.1, 3.7, 1.5, 0.4],\n",
              "       [4.6, 3.6, 1. , 0.2],\n",
              "       [5.1, 3.3, 1.7, 0.5],\n",
              "       [4.8, 3.4, nan, 0.2],\n",
              "       [5. , 3. , 1.6, 0.2],\n",
              "       [5. , 3.4, 1.6, 0.4],\n",
              "       [5.2, 3.5, 1.5, 0.2],\n",
              "       [5.2, 3.4, 1.4, 0.2],\n",
              "       [4.7, 3.2, 1.6, 0.2],\n",
              "       [4.8, 3.1, 1.6, 0.2],\n",
              "       [5.4, 3.4, 1.5, 0.4],\n",
              "       [5.2, 4.1, nan, 0.1],\n",
              "       [5.5, 4.2, 1.4, 0.2],\n",
              "       [4.9, 3.1, 1.5, 0.1],\n",
              "       [5. , 3.2, 1.2, 0.2],\n",
              "       [5.5, 3.5, 1.3, 0.2],\n",
              "       [4.9, 3.1, 1.5, 0.1],\n",
              "       [4.4, 3. , 1.3, 0.2],\n",
              "       [5.1, 3.4, 1.5, 0.2],\n",
              "       [5. , 3.5, 1.3, 0.3],\n",
              "       [4.5, 2.3, nan, 0.3],\n",
              "       [4.4, 3.2, 1.3, 0.2],\n",
              "       [5. , 3.5, 1.6, 0.6],\n",
              "       [5.1, 3.8, 1.9, 0.4],\n",
              "       [4.8, 3. , 1.4, 0.3],\n",
              "       [5.1, 3.8, 1.6, 0.2],\n",
              "       [4.6, 3.2, 1.4, 0.2],\n",
              "       [5.3, 3.7, nan, 0.2],\n",
              "       [5. , 3.3, 1.4, 0.2],\n",
              "       [7. , 3.2, 4.7, 1.4],\n",
              "       [6.4, 3.2, 4.5, 1.5],\n",
              "       [6.9, 3.1, 4.9, 1.5],\n",
              "       [5.5, 2.3, 4. , 1.3],\n",
              "       [6.5, 2.8, 4.6, 1.5],\n",
              "       [5.7, nan, 4.5, 1.3],\n",
              "       [6.3, 3.3, 4.7, 1.6],\n",
              "       [4.9, 2.4, 3.3, 1. ],\n",
              "       [6.6, 2.9, 4.6, 1.3],\n",
              "       [5.2, 2.7, 3.9, 1.4],\n",
              "       [5. , 2. , 3.5, 1. ],\n",
              "       [5.9, 3. , 4.2, 1.5],\n",
              "       [6. , 2.2, nan, 1. ],\n",
              "       [6.1, 2.9, nan, 1.4],\n",
              "       [5.6, 2.9, 3.6, 1.3],\n",
              "       [6.7, nan, 4.4, 1.4],\n",
              "       [5.6, 3. , 4.5, 1.5],\n",
              "       [5.8, 2.7, 4.1, 1. ],\n",
              "       [6.2, 2.2, 4.5, 1.5],\n",
              "       [5.6, 2.5, 3.9, 1.1],\n",
              "       [5.9, 3.2, 4.8, 1.8],\n",
              "       [6.1, 2.8, 4. , 1.3],\n",
              "       [6.3, 2.5, 4.9, 1.5],\n",
              "       [6.1, 2.8, 4.7, 1.2],\n",
              "       [6.4, 2.9, 4.3, 1.3],\n",
              "       [6.6, 3. , nan, 1.4],\n",
              "       [6.8, 2.8, 4.8, 1.4],\n",
              "       [6.7, 3. , 5. , 1.7],\n",
              "       [6. , 2.9, 4.5, 1.5],\n",
              "       [nan, 2.6, 3.5, 1. ],\n",
              "       [5.5, 2.4, 3.8, 1.1],\n",
              "       [5.5, 2.4, 3.7, 1. ],\n",
              "       [5.8, 2.7, 3.9, 1.2],\n",
              "       [6. , 2.7, 5.1, 1.6],\n",
              "       [5.4, 3. , 4.5, 1.5],\n",
              "       [6. , 3.4, 4.5, 1.6],\n",
              "       [6.7, 3.1, 4.7, 1.5],\n",
              "       [6.3, nan, 4.4, 1.3],\n",
              "       [5.6, 3. , 4.1, 1.3],\n",
              "       [5.5, 2.5, 4. , 1.3],\n",
              "       [5.5, 2.6, 4.4, 1.2],\n",
              "       [6.1, 3. , 4.6, 1.4],\n",
              "       [5.8, 2.6, 4. , 1.2],\n",
              "       [5. , 2.3, 3.3, 1. ],\n",
              "       [nan, 2.7, 4.2, 1.3],\n",
              "       [5.7, 3. , 4.2, 1.2],\n",
              "       [5.7, 2.9, 4.2, 1.3],\n",
              "       [6.2, 2.9, 4.3, 1.3],\n",
              "       [5.1, 2.5, 3. , 1.1],\n",
              "       [5.7, 2.8, 4.1, 1.3],\n",
              "       [6.3, 3.3, 6. , 2.5],\n",
              "       [5.8, 2.7, 5.1, 1.9],\n",
              "       [7.1, 3. , 5.9, 2.1],\n",
              "       [6.3, 2.9, 5.6, 1.8],\n",
              "       [6.5, 3. , 5.8, 2.2],\n",
              "       [7.6, nan, 6.6, 2.1],\n",
              "       [4.9, 2.5, 4.5, 1.7],\n",
              "       [7.3, 2.9, 6.3, 1.8],\n",
              "       [6.7, 2.5, 5.8, 1.8],\n",
              "       [7.2, 3.6, 6.1, 2.5],\n",
              "       [6.5, 3.2, 5.1, 2. ],\n",
              "       [6.4, 2.7, 5.3, 1.9],\n",
              "       [6.8, 3. , 5.5, 2.1],\n",
              "       [nan, 2.5, 5. , 2. ],\n",
              "       [5.8, 2.8, 5.1, 2.4],\n",
              "       [6.4, 3.2, 5.3, 2.3],\n",
              "       [6.5, 3. , 5.5, 1.8],\n",
              "       [7.7, 3.8, 6.7, 2.2],\n",
              "       [7.7, 2.6, 6.9, 2.3],\n",
              "       [6. , 2.2, 5. , 1.5],\n",
              "       [6.9, 3.2, 5.7, 2.3],\n",
              "       [5.6, 2.8, 4.9, 2. ],\n",
              "       [7.7, nan, 6.7, 2. ],\n",
              "       [6.3, 2.7, 4.9, 1.8],\n",
              "       [6.7, nan, 5.7, 2.1],\n",
              "       [7.2, 3.2, 6. , 1.8],\n",
              "       [6.2, 2.8, nan, 1.8],\n",
              "       [6.1, 3. , 4.9, 1.8],\n",
              "       [6.4, 2.8, nan, 2.1],\n",
              "       [7.2, 3. , 5.8, 1.6],\n",
              "       [7.4, 2.8, 6.1, 1.9],\n",
              "       [7.9, 3.8, 6.4, 2. ],\n",
              "       [6.4, 2.8, 5.6, 2.2],\n",
              "       [6.3, 2.8, 5.1, 1.5],\n",
              "       [6.1, 2.6, 5.6, 1.4],\n",
              "       [7.7, 3. , 6.1, 2.3],\n",
              "       [6.3, 3.4, 5.6, 2.4],\n",
              "       [6.4, 3.1, 5.5, 1.8],\n",
              "       [6. , 3. , 4.8, 1.8],\n",
              "       [6.9, 3.1, 5.4, 2.1],\n",
              "       [6.7, 3.1, 5.6, 2.4],\n",
              "       [6.9, 3.1, 5.1, 2.3],\n",
              "       [5.8, 2.7, 5.1, 1.9],\n",
              "       [6.8, 3.2, 5.9, 2.3],\n",
              "       [6.7, 3.3, 5.7, 2.5],\n",
              "       [6.7, 3. , 5.2, 2.3],\n",
              "       [6.3, 2.5, 5. , 1.9],\n",
              "       [6.5, 3. , 5.2, 2. ],\n",
              "       [6.2, 3.4, 5.4, 2.3],\n",
              "       [5.9, 3. , 5.1, 1.8]])"
            ]
          },
          "metadata": {},
          "execution_count": 22
        }
      ]
    },
    {
      "cell_type": "code",
      "source": [
        "#get counts of each unique numbers where nan include\n",
        "\n",
        "test_values, test_counts = np.unique(test_data_np, return_counts=True)\n",
        "\n",
        "print(test_values)\n",
        "print(test_counts)"
      ],
      "metadata": {
        "colab": {
          "base_uri": "https://localhost:8080/"
        },
        "id": "iKykjA2VxcqT",
        "outputId": "c7b2742c-53cb-4c74-b6cd-c69706c8f63e"
      },
      "execution_count": 23,
      "outputs": [
        {
          "output_type": "stream",
          "name": "stdout",
          "text": [
            "[0.1 0.2 0.3 0.4 0.5 0.6 1.  1.1 1.2 1.3 1.4 1.5 1.6 1.7 1.8 1.9 2.  2.1\n",
            " 2.2 2.3 2.4 2.5 2.6 2.7 2.8 2.9 3.  3.1 3.2 3.3 3.4 3.5 3.6 3.7 3.8 3.9\n",
            " 4.  4.1 4.2 4.3 4.4 4.5 4.6 4.7 4.8 4.9 5.  5.1 5.2 5.3 5.4 5.5 5.6 5.7\n",
            " 5.8 5.9 6.  6.1 6.2 6.3 6.4 6.5 6.6 6.7 6.8 6.9 7.  7.1 7.2 7.3 7.4 7.6\n",
            " 7.7 7.9 nan]\n",
            "[ 6 28  7  7  1  1  8  4  7 19 20 24 11  6 12  6  7  6  6 11  6 11  5  9\n",
            " 12 10 26 11 13  7 12  8  4  4  7  5  5  4  5  2  7  9  7  6  8 10 14 17\n",
            "  6  3  8 10 10  9 10  5  8  9  4 10  8  5  3 10  3  5  1  1  3  1  1  1\n",
            "  4  1 20]\n"
          ]
        }
      ]
    },
    {
      "cell_type": "markdown",
      "source": [
        "# **Task 5**\n",
        "\n",
        "Find the positions of the inserted np.nan values in the 1st column"
      ],
      "metadata": {
        "id": "ufHiivAo3yLy"
      }
    },
    {
      "cell_type": "code",
      "source": [
        "#copying data to new variable\n",
        "\n",
        "find_pos = test_data_np.copy()"
      ],
      "metadata": {
        "id": "f_c5ipFT35xH"
      },
      "execution_count": 24,
      "outputs": []
    },
    {
      "cell_type": "code",
      "source": [
        "#first column with nan values\n",
        "\n",
        "first_col_nan = np.isnan(find_pos[:,0])\n",
        "\n",
        "fst_col_nan_indicies = np.where(first_col_nan==True)\n",
        "\n",
        "print(f\" indices of nan in first column are: {fst_col_nan_indicies}\")"
      ],
      "metadata": {
        "colab": {
          "base_uri": "https://localhost:8080/"
        },
        "id": "Q91G9Bb94NgM",
        "outputId": "921595b9-f752-458e-f65f-558863c1f3ad"
      },
      "execution_count": 25,
      "outputs": [
        {
          "output_type": "stream",
          "name": "stdout",
          "text": [
            " indices of nan in first column are: (array([  9,  13,  79,  94, 113]),)\n"
          ]
        }
      ]
    },
    {
      "cell_type": "markdown",
      "source": [
        "#**Task 6**\n",
        "\n",
        "Filter the array by the condition: values in the 3rd column > 1.5 and values in the 1st column < 5.0 (save to another variable)"
      ],
      "metadata": {
        "id": "uciFG7HO-FGw"
      }
    },
    {
      "cell_type": "code",
      "source": [
        "# copying variable\n",
        "\n",
        "filtered_data = test_data_np.copy()"
      ],
      "metadata": {
        "id": "Wxzx8qOB9EyL"
      },
      "execution_count": 26,
      "outputs": []
    },
    {
      "cell_type": "code",
      "source": [
        "#filter data regarding task\n",
        "new_filter = filtered_data[(filtered_data[:, 3] > 1.5) & (filtered_data[:,1]<5.0)]\n",
        "new_filter"
      ],
      "metadata": {
        "colab": {
          "base_uri": "https://localhost:8080/"
        },
        "id": "tzroyZNOG--r",
        "outputId": "a81909e9-d451-457e-e89b-10e14dec3886"
      },
      "execution_count": 27,
      "outputs": [
        {
          "output_type": "execute_result",
          "data": {
            "text/plain": [
              "array([[6.3, 3.3, 4.7, 1.6],\n",
              "       [5.9, 3.2, 4.8, 1.8],\n",
              "       [6.7, 3. , 5. , 1.7],\n",
              "       [6. , 2.7, 5.1, 1.6],\n",
              "       [6. , 3.4, 4.5, 1.6],\n",
              "       [6.3, 3.3, 6. , 2.5],\n",
              "       [5.8, 2.7, 5.1, 1.9],\n",
              "       [7.1, 3. , 5.9, 2.1],\n",
              "       [6.3, 2.9, 5.6, 1.8],\n",
              "       [6.5, 3. , 5.8, 2.2],\n",
              "       [4.9, 2.5, 4.5, 1.7],\n",
              "       [7.3, 2.9, 6.3, 1.8],\n",
              "       [6.7, 2.5, 5.8, 1.8],\n",
              "       [7.2, 3.6, 6.1, 2.5],\n",
              "       [6.5, 3.2, 5.1, 2. ],\n",
              "       [6.4, 2.7, 5.3, 1.9],\n",
              "       [6.8, 3. , 5.5, 2.1],\n",
              "       [nan, 2.5, 5. , 2. ],\n",
              "       [5.8, 2.8, 5.1, 2.4],\n",
              "       [6.4, 3.2, 5.3, 2.3],\n",
              "       [6.5, 3. , 5.5, 1.8],\n",
              "       [7.7, 3.8, 6.7, 2.2],\n",
              "       [7.7, 2.6, 6.9, 2.3],\n",
              "       [6.9, 3.2, 5.7, 2.3],\n",
              "       [5.6, 2.8, 4.9, 2. ],\n",
              "       [6.3, 2.7, 4.9, 1.8],\n",
              "       [7.2, 3.2, 6. , 1.8],\n",
              "       [6.2, 2.8, nan, 1.8],\n",
              "       [6.1, 3. , 4.9, 1.8],\n",
              "       [6.4, 2.8, nan, 2.1],\n",
              "       [7.2, 3. , 5.8, 1.6],\n",
              "       [7.4, 2.8, 6.1, 1.9],\n",
              "       [7.9, 3.8, 6.4, 2. ],\n",
              "       [6.4, 2.8, 5.6, 2.2],\n",
              "       [7.7, 3. , 6.1, 2.3],\n",
              "       [6.3, 3.4, 5.6, 2.4],\n",
              "       [6.4, 3.1, 5.5, 1.8],\n",
              "       [6. , 3. , 4.8, 1.8],\n",
              "       [6.9, 3.1, 5.4, 2.1],\n",
              "       [6.7, 3.1, 5.6, 2.4],\n",
              "       [6.9, 3.1, 5.1, 2.3],\n",
              "       [5.8, 2.7, 5.1, 1.9],\n",
              "       [6.8, 3.2, 5.9, 2.3],\n",
              "       [6.7, 3.3, 5.7, 2.5],\n",
              "       [6.7, 3. , 5.2, 2.3],\n",
              "       [6.3, 2.5, 5. , 1.9],\n",
              "       [6.5, 3. , 5.2, 2. ],\n",
              "       [6.2, 3.4, 5.4, 2.3],\n",
              "       [5.9, 3. , 5.1, 1.8]])"
            ]
          },
          "metadata": {},
          "execution_count": 27
        }
      ]
    },
    {
      "cell_type": "markdown",
      "source": [
        "#**Task 7**\n",
        "\n",
        "Replace all np.nan values with 0"
      ],
      "metadata": {
        "id": "bcsORmDMI-2P"
      }
    },
    {
      "cell_type": "code",
      "source": [
        "#copy data to new variable\n",
        "\n",
        "replaced_data = new_filter.copy()"
      ],
      "metadata": {
        "id": "2siZ1YsBJIR5"
      },
      "execution_count": 28,
      "outputs": []
    },
    {
      "cell_type": "code",
      "source": [
        "#check for nan before replacing values\n",
        "\n",
        "np.unique(np.isnan(replaced_data))"
      ],
      "metadata": {
        "colab": {
          "base_uri": "https://localhost:8080/"
        },
        "id": "wyPrjsCaLXRh",
        "outputId": "ec3bb431-ea5d-451b-86b2-010f53f7a3c0"
      },
      "execution_count": 29,
      "outputs": [
        {
          "output_type": "execute_result",
          "data": {
            "text/plain": [
              "array([False,  True])"
            ]
          },
          "metadata": {},
          "execution_count": 29
        }
      ]
    },
    {
      "cell_type": "code",
      "source": [
        "# check for nan condition and replace it by 0 values\n",
        "\n",
        "replaced_data = np.where(~np.isnan(replaced_data), replaced_data, 0)\n",
        "\n",
        "#check for nan\n",
        "\n",
        "np.unique(np.isnan(replaced_data))"
      ],
      "metadata": {
        "colab": {
          "base_uri": "https://localhost:8080/"
        },
        "id": "L-IRWOsQJTgg",
        "outputId": "02e64dbf-e63d-46c2-fbe8-14f3739bce44"
      },
      "execution_count": 30,
      "outputs": [
        {
          "output_type": "execute_result",
          "data": {
            "text/plain": [
              "array([False])"
            ]
          },
          "metadata": {},
          "execution_count": 30
        }
      ]
    },
    {
      "cell_type": "markdown",
      "source": [
        "#**Task 8**\n",
        "\n",
        "Count all unique values in the array and print them along with the number\n"
      ],
      "metadata": {
        "id": "sTH1xtH5LiE1"
      }
    },
    {
      "cell_type": "code",
      "source": [
        "# count all values\n",
        "\n",
        "replaced_data_values, data_values_count = np.unique(replaced_data, return_counts=True)\n",
        "\n",
        "# i'm iterate first 10 unique values just for better vision\n",
        "\n",
        "for i, n in zip(replaced_data_values[:10], data_values_count[:10]):\n",
        "  print(f\"value {i} appear in data {n} times\")\n",
        "\n"
      ],
      "metadata": {
        "colab": {
          "base_uri": "https://localhost:8080/"
        },
        "id": "IAkXKNk-LwMu",
        "outputId": "8f9e87ca-f92e-423c-887d-36c47d8de079"
      },
      "execution_count": 31,
      "outputs": [
        {
          "output_type": "stream",
          "name": "stdout",
          "text": [
            "value 0.0 appear in data 3 times\n",
            "value 1.6 appear in data 4 times\n",
            "value 1.7 appear in data 2 times\n",
            "value 1.8 appear in data 12 times\n",
            "value 1.9 appear in data 5 times\n",
            "value 2.0 appear in data 5 times\n",
            "value 2.1 appear in data 4 times\n",
            "value 2.2 appear in data 3 times\n",
            "value 2.3 appear in data 8 times\n",
            "value 2.4 appear in data 3 times\n"
          ]
        }
      ]
    },
    {
      "cell_type": "markdown",
      "source": [
        "#Task 9\n",
        "Split the array vertically into 2 equal parts (do not use absolute numbers, there should be two arrays of 4 columns each"
      ],
      "metadata": {
        "id": "0ffn4qwhNmu3"
      }
    },
    {
      "cell_type": "code",
      "source": [
        "#create copy\n",
        "data_split = data_np.copy()"
      ],
      "metadata": {
        "id": "tHb3JnY7Nxmo"
      },
      "execution_count": 32,
      "outputs": []
    },
    {
      "cell_type": "code",
      "source": [
        "# Split an array into multiple sub-arrays as views into ary.\n",
        "data_split = np.split(data_split, 2, axis=0)\n",
        "\n",
        "print(data_split[0].shape)\n",
        "print(data_split[1].shape)"
      ],
      "metadata": {
        "colab": {
          "base_uri": "https://localhost:8080/"
        },
        "id": "jArY-aZaP-iA",
        "outputId": "4b1a7de0-8246-423c-a6f7-87e81f67a9bb"
      },
      "execution_count": 33,
      "outputs": [
        {
          "output_type": "stream",
          "name": "stdout",
          "text": [
            "(75, 4)\n",
            "(75, 4)\n"
          ]
        }
      ]
    },
    {
      "cell_type": "markdown",
      "source": [
        "#**Task 10**\n",
        "Sort both arrays by the 1st column: 1st in ascending order, 2nd in descending order"
      ],
      "metadata": {
        "id": "cf2Ix3u_Q28G"
      }
    },
    {
      "cell_type": "code",
      "source": [
        "sort_var = data_split.copy()"
      ],
      "metadata": {
        "id": "eseu6u5kXIvN"
      },
      "execution_count": 34,
      "outputs": []
    },
    {
      "cell_type": "code",
      "source": [
        "# sort 1st previous array by ascending\n",
        "\n",
        "sort_ascend = data_split[0]\n",
        "sort_descend = data_split[1]"
      ],
      "metadata": {
        "id": "QFcxeRMgQ6D4"
      },
      "execution_count": 35,
      "outputs": []
    },
    {
      "cell_type": "code",
      "source": [
        "#sorting descending by first column\n",
        "\n",
        "x_sorted_desc = sort_descend[sort_descend[:, 0].argsort()[::-1]]\n",
        "x_sorted_desc[:10, :]"
      ],
      "metadata": {
        "colab": {
          "base_uri": "https://localhost:8080/"
        },
        "id": "22hdQ5QwTnBo",
        "outputId": "59006cf2-4d0c-4f20-a7d2-adbd4484c3aa"
      },
      "execution_count": 36,
      "outputs": [
        {
          "output_type": "execute_result",
          "data": {
            "text/plain": [
              "array([[7.9, 3.8, 6.4, 2. ],\n",
              "       [7.7, 2.8, 6.7, 2. ],\n",
              "       [7.7, 2.6, 6.9, 2.3],\n",
              "       [7.7, 3.8, 6.7, 2.2],\n",
              "       [7.7, 3. , 6.1, 2.3],\n",
              "       [7.6, 3. , 6.6, 2.1],\n",
              "       [7.4, 2.8, 6.1, 1.9],\n",
              "       [7.3, 2.9, 6.3, 1.8],\n",
              "       [7.2, 3. , 5.8, 1.6],\n",
              "       [7.2, 3.6, 6.1, 2.5]])"
            ]
          },
          "metadata": {},
          "execution_count": 36
        }
      ]
    },
    {
      "cell_type": "code",
      "source": [
        "#sorting ascending by first column\n",
        "\n",
        "x_sorted_ascend = sort_ascend[sort_ascend[:, 0].argsort()[::1]]\n",
        "x_sorted_ascend[:10, :]"
      ],
      "metadata": {
        "colab": {
          "base_uri": "https://localhost:8080/"
        },
        "id": "BuZC3LWTVEm9",
        "outputId": "e45a9648-2cd6-4e1f-ce0e-d53466a17fe4"
      },
      "execution_count": 37,
      "outputs": [
        {
          "output_type": "execute_result",
          "data": {
            "text/plain": [
              "array([[4.3, 3. , 1.1, 0.1],\n",
              "       [4.4, 2.9, 1.4, 0.2],\n",
              "       [4.4, 3.2, 1.3, 0.2],\n",
              "       [4.4, 3. , 1.3, 0.2],\n",
              "       [4.5, 2.3, 1.3, 0.3],\n",
              "       [4.6, 3.1, 1.5, 0.2],\n",
              "       [4.6, 3.4, 1.4, 0.3],\n",
              "       [4.6, 3.2, 1.4, 0.2],\n",
              "       [4.6, 3.6, 1. , 0.2],\n",
              "       [4.7, 3.2, 1.3, 0.2]])"
            ]
          },
          "metadata": {},
          "execution_count": 37
        }
      ]
    },
    {
      "cell_type": "markdown",
      "source": [
        "#Task 11\n",
        "Merge both arrays into one"
      ],
      "metadata": {
        "id": "Sz3YBH2HEQ3s"
      }
    },
    {
      "cell_type": "code",
      "source": [
        "# merge arrays with numpy.concatenate\n",
        "\n",
        "merged_data = np.concatenate((x_sorted_ascend, x_sorted_desc), axis=0)"
      ],
      "metadata": {
        "id": "xSVH1OaKEU2H"
      },
      "execution_count": 38,
      "outputs": []
    },
    {
      "cell_type": "code",
      "source": [
        "# check first 10 rows for ascending and last 10 rows for descending\n",
        "print(f\"first 10 rows: \\n {merged_data[:10,:]} \\n\\n last 10 rows: \\n {merged_data[-10:-1:1,:]}\")"
      ],
      "metadata": {
        "colab": {
          "base_uri": "https://localhost:8080/"
        },
        "id": "YVNMC_4mFNyd",
        "outputId": "824ccc87-36dd-4076-b8ec-e885ed2e2f10"
      },
      "execution_count": 39,
      "outputs": [
        {
          "output_type": "stream",
          "name": "stdout",
          "text": [
            "first 10 rows: \n",
            " [[4.3 3.  1.1 0.1]\n",
            " [4.4 2.9 1.4 0.2]\n",
            " [4.4 3.2 1.3 0.2]\n",
            " [4.4 3.  1.3 0.2]\n",
            " [4.5 2.3 1.3 0.3]\n",
            " [4.6 3.1 1.5 0.2]\n",
            " [4.6 3.4 1.4 0.3]\n",
            " [4.6 3.2 1.4 0.2]\n",
            " [4.6 3.6 1.  0.2]\n",
            " [4.7 3.2 1.3 0.2]] \n",
            "\n",
            " last 10 rows: \n",
            " [[5.6 2.7 4.2 1.3]\n",
            " [5.6 2.8 4.9 2. ]\n",
            " [5.5 2.5 4.  1.3]\n",
            " [5.5 2.4 3.7 1. ]\n",
            " [5.5 2.4 3.8 1.1]\n",
            " [5.5 2.6 4.4 1.2]\n",
            " [5.4 3.  4.5 1.5]\n",
            " [5.1 2.5 3.  1.1]\n",
            " [5.  2.3 3.3 1. ]]\n"
          ]
        }
      ]
    },
    {
      "cell_type": "markdown",
      "source": [
        "#**Task 12**\n",
        "Find the most frequently repeated value in the array"
      ],
      "metadata": {
        "id": "6zXvMz0SJnE3"
      }
    },
    {
      "cell_type": "code",
      "source": [
        "#Count number of occurrences of each value in array of non-negative ints:\n",
        "\n",
        "most_freq_value, count_value = np.unique(merged_data, return_counts=True)"
      ],
      "metadata": {
        "id": "6aEviUqNJtYZ"
      },
      "execution_count": 40,
      "outputs": []
    },
    {
      "cell_type": "code",
      "source": [
        "# get index of the max value\n",
        "index = np.argmax(count_value)"
      ],
      "metadata": {
        "id": "5E77ie9MQepN"
      },
      "execution_count": 41,
      "outputs": []
    },
    {
      "cell_type": "code",
      "source": [
        "print(f\"the most frequent value is: {most_freq_value[index]},\\\n",
        "                            \\nit appear {np.max(count_value)} times\")"
      ],
      "metadata": {
        "colab": {
          "base_uri": "https://localhost:8080/"
        },
        "id": "E8uH_g78OgG8",
        "outputId": "f55fe582-ed30-4797-8319-f26d6d49b659"
      },
      "execution_count": 42,
      "outputs": [
        {
          "output_type": "stream",
          "name": "stdout",
          "text": [
            "the most frequent value is: 0.2,                            \n",
            "it appear 28 times\n"
          ]
        }
      ]
    },
    {
      "cell_type": "code",
      "source": [
        "# check it\n",
        "print(f\"values: {most_freq_value}\")\n",
        "print(f\"counts: {count_value}\")"
      ],
      "metadata": {
        "colab": {
          "base_uri": "https://localhost:8080/"
        },
        "id": "C32HS8qGP4IN",
        "outputId": "faa7b8c2-6044-46c1-da63-4add8220aa48"
      },
      "execution_count": 43,
      "outputs": [
        {
          "output_type": "stream",
          "name": "stdout",
          "text": [
            "values: [0.1 0.2 0.3 0.4 0.5 0.6 1.  1.1 1.2 1.3 1.4 1.5 1.6 1.7 1.8 1.9 2.  2.1\n",
            " 2.2 2.3 2.4 2.5 2.6 2.7 2.8 2.9 3.  3.1 3.2 3.3 3.4 3.5 3.6 3.7 3.8 3.9\n",
            " 4.  4.1 4.2 4.3 4.4 4.5 4.6 4.7 4.8 4.9 5.  5.1 5.2 5.3 5.4 5.5 5.6 5.7\n",
            " 5.8 5.9 6.  6.1 6.2 6.3 6.4 6.5 6.6 6.7 6.8 6.9 7.  7.1 7.2 7.3 7.4 7.6\n",
            " 7.7 7.9]\n",
            "counts: [ 6 28  7  7  1  1  8  4  7 20 20 26 11  6 12  7  7  6  6 12  6 11  5  9\n",
            " 14 10 27 12 13  8 12  8  4  4  7  5  6  4  5  3  8  9  7  7  9 11 14 17\n",
            "  6  3  8 10 12 11 10  5  8  9  4 10  8  5  3 10  3  5  1  1  3  1  1  1\n",
            "  4  1]\n"
          ]
        }
      ]
    },
    {
      "cell_type": "markdown",
      "source": [
        "#**Task 13**\n",
        "Write a function that multiplies all values in a column that are less than the average value in that column by 2 and divides the remaining values by 4"
      ],
      "metadata": {
        "id": "Bq1zRuO6SQF2"
      }
    },
    {
      "cell_type": "code",
      "source": [
        "def remain_values(col):\n",
        "    \"\"\"Function compare and remain all values in column to avg value of that\n",
        "    column if value lower it multiply on 2 if greater divides by 4.\n",
        "    return data with changed column\"\"\"\n",
        "\n",
        "    column  = np.where(col < np.mean(col), col*2, col/4)\n",
        "    return column"
      ],
      "metadata": {
        "id": "JMZGk59uSXNQ"
      },
      "execution_count": 44,
      "outputs": []
    },
    {
      "cell_type": "markdown",
      "source": [
        "#**Task 14**\n",
        "\n",
        "Apply the resulting function to the 3rd column"
      ],
      "metadata": {
        "id": "b_Nsa6lXe9Ot"
      }
    },
    {
      "cell_type": "code",
      "source": [
        "test_data = data_np.copy()"
      ],
      "metadata": {
        "id": "x7Q-xwU1WaGv"
      },
      "execution_count": 45,
      "outputs": []
    },
    {
      "cell_type": "code",
      "source": [
        "test_data[:,2] = np.apply_along_axis(remain_values, axis=0, arr=test_data[:,2])"
      ],
      "metadata": {
        "id": "Zkt-eDctbsnA"
      },
      "execution_count": 46,
      "outputs": []
    },
    {
      "cell_type": "code",
      "source": [
        "test_data"
      ],
      "metadata": {
        "colab": {
          "base_uri": "https://localhost:8080/"
        },
        "id": "ibLHgTAjefr8",
        "outputId": "08dee549-79e1-4efa-bed5-a86498cbf0db"
      },
      "execution_count": 47,
      "outputs": [
        {
          "output_type": "execute_result",
          "data": {
            "text/plain": [
              "array([[5.1  , 3.5  , 2.8  , 0.2  ],\n",
              "       [4.9  , 3.   , 2.8  , 0.2  ],\n",
              "       [4.7  , 3.2  , 2.6  , 0.2  ],\n",
              "       [4.6  , 3.1  , 3.   , 0.2  ],\n",
              "       [5.   , 3.6  , 2.8  , 0.2  ],\n",
              "       [5.4  , 3.9  , 3.4  , 0.4  ],\n",
              "       [4.6  , 3.4  , 2.8  , 0.3  ],\n",
              "       [5.   , 3.4  , 3.   , 0.2  ],\n",
              "       [4.4  , 2.9  , 2.8  , 0.2  ],\n",
              "       [4.9  , 3.1  , 3.   , 0.1  ],\n",
              "       [5.4  , 3.7  , 3.   , 0.2  ],\n",
              "       [4.8  , 3.4  , 3.2  , 0.2  ],\n",
              "       [4.8  , 3.   , 2.8  , 0.1  ],\n",
              "       [4.3  , 3.   , 2.2  , 0.1  ],\n",
              "       [5.8  , 4.   , 2.4  , 0.2  ],\n",
              "       [5.7  , 4.4  , 3.   , 0.4  ],\n",
              "       [5.4  , 3.9  , 2.6  , 0.4  ],\n",
              "       [5.1  , 3.5  , 2.8  , 0.3  ],\n",
              "       [5.7  , 3.8  , 3.4  , 0.3  ],\n",
              "       [5.1  , 3.8  , 3.   , 0.3  ],\n",
              "       [5.4  , 3.4  , 3.4  , 0.2  ],\n",
              "       [5.1  , 3.7  , 3.   , 0.4  ],\n",
              "       [4.6  , 3.6  , 2.   , 0.2  ],\n",
              "       [5.1  , 3.3  , 3.4  , 0.5  ],\n",
              "       [4.8  , 3.4  , 3.8  , 0.2  ],\n",
              "       [5.   , 3.   , 3.2  , 0.2  ],\n",
              "       [5.   , 3.4  , 3.2  , 0.4  ],\n",
              "       [5.2  , 3.5  , 3.   , 0.2  ],\n",
              "       [5.2  , 3.4  , 2.8  , 0.2  ],\n",
              "       [4.7  , 3.2  , 3.2  , 0.2  ],\n",
              "       [4.8  , 3.1  , 3.2  , 0.2  ],\n",
              "       [5.4  , 3.4  , 3.   , 0.4  ],\n",
              "       [5.2  , 4.1  , 3.   , 0.1  ],\n",
              "       [5.5  , 4.2  , 2.8  , 0.2  ],\n",
              "       [4.9  , 3.1  , 3.   , 0.1  ],\n",
              "       [5.   , 3.2  , 2.4  , 0.2  ],\n",
              "       [5.5  , 3.5  , 2.6  , 0.2  ],\n",
              "       [4.9  , 3.1  , 3.   , 0.1  ],\n",
              "       [4.4  , 3.   , 2.6  , 0.2  ],\n",
              "       [5.1  , 3.4  , 3.   , 0.2  ],\n",
              "       [5.   , 3.5  , 2.6  , 0.3  ],\n",
              "       [4.5  , 2.3  , 2.6  , 0.3  ],\n",
              "       [4.4  , 3.2  , 2.6  , 0.2  ],\n",
              "       [5.   , 3.5  , 3.2  , 0.6  ],\n",
              "       [5.1  , 3.8  , 3.8  , 0.4  ],\n",
              "       [4.8  , 3.   , 2.8  , 0.3  ],\n",
              "       [5.1  , 3.8  , 3.2  , 0.2  ],\n",
              "       [4.6  , 3.2  , 2.8  , 0.2  ],\n",
              "       [5.3  , 3.7  , 3.   , 0.2  ],\n",
              "       [5.   , 3.3  , 2.8  , 0.2  ],\n",
              "       [7.   , 3.2  , 1.175, 1.4  ],\n",
              "       [6.4  , 3.2  , 1.125, 1.5  ],\n",
              "       [6.9  , 3.1  , 1.225, 1.5  ],\n",
              "       [5.5  , 2.3  , 1.   , 1.3  ],\n",
              "       [6.5  , 2.8  , 1.15 , 1.5  ],\n",
              "       [5.7  , 2.8  , 1.125, 1.3  ],\n",
              "       [6.3  , 3.3  , 1.175, 1.6  ],\n",
              "       [4.9  , 2.4  , 6.6  , 1.   ],\n",
              "       [6.6  , 2.9  , 1.15 , 1.3  ],\n",
              "       [5.2  , 2.7  , 0.975, 1.4  ],\n",
              "       [5.   , 2.   , 7.   , 1.   ],\n",
              "       [5.9  , 3.   , 1.05 , 1.5  ],\n",
              "       [6.   , 2.2  , 1.   , 1.   ],\n",
              "       [6.1  , 2.9  , 1.175, 1.4  ],\n",
              "       [5.6  , 2.9  , 7.2  , 1.3  ],\n",
              "       [6.7  , 3.1  , 1.1  , 1.4  ],\n",
              "       [5.6  , 3.   , 1.125, 1.5  ],\n",
              "       [5.8  , 2.7  , 1.025, 1.   ],\n",
              "       [6.2  , 2.2  , 1.125, 1.5  ],\n",
              "       [5.6  , 2.5  , 0.975, 1.1  ],\n",
              "       [5.9  , 3.2  , 1.2  , 1.8  ],\n",
              "       [6.1  , 2.8  , 1.   , 1.3  ],\n",
              "       [6.3  , 2.5  , 1.225, 1.5  ],\n",
              "       [6.1  , 2.8  , 1.175, 1.2  ],\n",
              "       [6.4  , 2.9  , 1.075, 1.3  ],\n",
              "       [6.6  , 3.   , 1.1  , 1.4  ],\n",
              "       [6.8  , 2.8  , 1.2  , 1.4  ],\n",
              "       [6.7  , 3.   , 1.25 , 1.7  ],\n",
              "       [6.   , 2.9  , 1.125, 1.5  ],\n",
              "       [5.7  , 2.6  , 7.   , 1.   ],\n",
              "       [5.5  , 2.4  , 0.95 , 1.1  ],\n",
              "       [5.5  , 2.4  , 7.4  , 1.   ],\n",
              "       [5.8  , 2.7  , 0.975, 1.2  ],\n",
              "       [6.   , 2.7  , 1.275, 1.6  ],\n",
              "       [5.4  , 3.   , 1.125, 1.5  ],\n",
              "       [6.   , 3.4  , 1.125, 1.6  ],\n",
              "       [6.7  , 3.1  , 1.175, 1.5  ],\n",
              "       [6.3  , 2.3  , 1.1  , 1.3  ],\n",
              "       [5.6  , 3.   , 1.025, 1.3  ],\n",
              "       [5.5  , 2.5  , 1.   , 1.3  ],\n",
              "       [5.5  , 2.6  , 1.1  , 1.2  ],\n",
              "       [6.1  , 3.   , 1.15 , 1.4  ],\n",
              "       [5.8  , 2.6  , 1.   , 1.2  ],\n",
              "       [5.   , 2.3  , 6.6  , 1.   ],\n",
              "       [5.6  , 2.7  , 1.05 , 1.3  ],\n",
              "       [5.7  , 3.   , 1.05 , 1.2  ],\n",
              "       [5.7  , 2.9  , 1.05 , 1.3  ],\n",
              "       [6.2  , 2.9  , 1.075, 1.3  ],\n",
              "       [5.1  , 2.5  , 6.   , 1.1  ],\n",
              "       [5.7  , 2.8  , 1.025, 1.3  ],\n",
              "       [6.3  , 3.3  , 1.5  , 2.5  ],\n",
              "       [5.8  , 2.7  , 1.275, 1.9  ],\n",
              "       [7.1  , 3.   , 1.475, 2.1  ],\n",
              "       [6.3  , 2.9  , 1.4  , 1.8  ],\n",
              "       [6.5  , 3.   , 1.45 , 2.2  ],\n",
              "       [7.6  , 3.   , 1.65 , 2.1  ],\n",
              "       [4.9  , 2.5  , 1.125, 1.7  ],\n",
              "       [7.3  , 2.9  , 1.575, 1.8  ],\n",
              "       [6.7  , 2.5  , 1.45 , 1.8  ],\n",
              "       [7.2  , 3.6  , 1.525, 2.5  ],\n",
              "       [6.5  , 3.2  , 1.275, 2.   ],\n",
              "       [6.4  , 2.7  , 1.325, 1.9  ],\n",
              "       [6.8  , 3.   , 1.375, 2.1  ],\n",
              "       [5.7  , 2.5  , 1.25 , 2.   ],\n",
              "       [5.8  , 2.8  , 1.275, 2.4  ],\n",
              "       [6.4  , 3.2  , 1.325, 2.3  ],\n",
              "       [6.5  , 3.   , 1.375, 1.8  ],\n",
              "       [7.7  , 3.8  , 1.675, 2.2  ],\n",
              "       [7.7  , 2.6  , 1.725, 2.3  ],\n",
              "       [6.   , 2.2  , 1.25 , 1.5  ],\n",
              "       [6.9  , 3.2  , 1.425, 2.3  ],\n",
              "       [5.6  , 2.8  , 1.225, 2.   ],\n",
              "       [7.7  , 2.8  , 1.675, 2.   ],\n",
              "       [6.3  , 2.7  , 1.225, 1.8  ],\n",
              "       [6.7  , 3.3  , 1.425, 2.1  ],\n",
              "       [7.2  , 3.2  , 1.5  , 1.8  ],\n",
              "       [6.2  , 2.8  , 1.2  , 1.8  ],\n",
              "       [6.1  , 3.   , 1.225, 1.8  ],\n",
              "       [6.4  , 2.8  , 1.4  , 2.1  ],\n",
              "       [7.2  , 3.   , 1.45 , 1.6  ],\n",
              "       [7.4  , 2.8  , 1.525, 1.9  ],\n",
              "       [7.9  , 3.8  , 1.6  , 2.   ],\n",
              "       [6.4  , 2.8  , 1.4  , 2.2  ],\n",
              "       [6.3  , 2.8  , 1.275, 1.5  ],\n",
              "       [6.1  , 2.6  , 1.4  , 1.4  ],\n",
              "       [7.7  , 3.   , 1.525, 2.3  ],\n",
              "       [6.3  , 3.4  , 1.4  , 2.4  ],\n",
              "       [6.4  , 3.1  , 1.375, 1.8  ],\n",
              "       [6.   , 3.   , 1.2  , 1.8  ],\n",
              "       [6.9  , 3.1  , 1.35 , 2.1  ],\n",
              "       [6.7  , 3.1  , 1.4  , 2.4  ],\n",
              "       [6.9  , 3.1  , 1.275, 2.3  ],\n",
              "       [5.8  , 2.7  , 1.275, 1.9  ],\n",
              "       [6.8  , 3.2  , 1.475, 2.3  ],\n",
              "       [6.7  , 3.3  , 1.425, 2.5  ],\n",
              "       [6.7  , 3.   , 1.3  , 2.3  ],\n",
              "       [6.3  , 2.5  , 1.25 , 1.9  ],\n",
              "       [6.5  , 3.   , 1.3  , 2.   ],\n",
              "       [6.2  , 3.4  , 1.35 , 2.3  ],\n",
              "       [5.9  , 3.   , 1.275, 1.8  ]])"
            ]
          },
          "metadata": {},
          "execution_count": 47
        }
      ]
    }
  ]
}